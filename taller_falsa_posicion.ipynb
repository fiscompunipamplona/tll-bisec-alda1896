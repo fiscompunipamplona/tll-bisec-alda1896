{
 "cells": [
  {
   "cell_type": "code",
   "execution_count": 1,
   "metadata": {},
   "outputs": [],
   "source": [
    "from pylab import plot, show, grid, xlabel, ylabel, xlim, ylim\n",
    "from numpy import exp"
   ]
  },
  {
   "cell_type": "code",
   "execution_count": 2,
   "metadata": {},
   "outputs": [],
   "source": [
    "g = 9.8 # m/s^2\n",
    "m = 68.1 # kg\n",
    "v = 40. # m/s\n",
    "t = 10. # s\n",
    "def chute(t, c):\n",
    "    return (g*m)/c * (1-exp(- (c/m) * t)) - v"
   ]
  },
  {
   "cell_type": "code",
   "execution_count": 5,
   "metadata": {},
   "outputs": [
    {
     "name": "stdout",
     "output_type": "stream",
     "text": [
      "4\n",
      "la raiz es:  14.780325343352809\n"
     ]
    },
    {
     "data": {
      "text/plain": [
       "(0, 0.2)"
      ]
     },
     "execution_count": 5,
     "metadata": {},
     "output_type": "execute_result"
    },
    {
     "data": {
      "image/png": "[encoded data removed]",
      "text/plain": [
       "<Figure size 432x288 with 1 Axes>"
      ]
     },
     "metadata": {
      "needs_background": "light"
     },
     "output_type": "display_data"
    }
   ],
   "source": [
    "# \n",
    "\n",
    "cl=1\n",
    "cu=20\n",
    "\n",
    "fl=chute(t,cl)\n",
    "fu=chute(t,cu)\n",
    "\n",
    "\n",
    "cr=cu-((fu*(cl-cu))/(fl-fu))\n",
    "\n",
    "fr=chute(t,cr)\n",
    "\n",
    "tol=0.008\n",
    "error=abs((cu-cl)/(cu+cl)) \n",
    "err=[]\n",
    "\n",
    "ct1=0\n",
    "ct2=0\n",
    "\n",
    "\n",
    "\n",
    "while error >= tol:\n",
    "    \n",
    "    cr=cu-((fu*(cl-cu))/(fl-fu))\n",
    "    fr=chute(t,cr)\n",
    "    if fl*fr < 0:\n",
    "        ct2=0\n",
    "        ct1 +=1\n",
    "        if ct1 >= 2:\n",
    "            fl=fl/2\n",
    "        cu=cr\n",
    "        fu=chute(t,cu)\n",
    "    else:\n",
    "        ct1=0\n",
    "        ct2 +=1\n",
    "        if ct2 >= 2:\n",
    "            fu=fu/2\n",
    "        cl=cr\n",
    "        fl=chute(t,cl)\n",
    "    \n",
    "    \n",
    "    error=abs((cu-cl)/(cu+cl))\n",
    "    err.append(error)\n",
    "    \n",
    "    \n",
    "print (len(err))       \n",
    "print (\"la raiz es: \", cr)\n",
    "\n",
    "xlabel(\"paso\")\n",
    "ylabel(\"error\")\n",
    "\n",
    "plot(err, 'o-')\n",
    "\n",
    "ylim (0,0.2)\n"
   ]
  },
  {
   "cell_type": "code",
   "execution_count": null,
   "metadata": {},
   "outputs": [],
   "source": []
  }
 ],
 "metadata": {
  "kernelspec": {
   "display_name": "Python 3",
   "language": "python",
   "name": "python3"
  },
  "language_info": {
   "codemirror_mode": {
    "name": "ipython",
    "version": 3
   },
   "file_extension": ".py",
   "mimetype": "text/x-python",
   "name": "python",
   "nbconvert_exporter": "python",
   "pygments_lexer": "ipython3",
   "version": "3.5.2"
  }
 },
 "nbformat": 4,
 "nbformat_minor": 2
}
